{
 "cells": [
  {
   "cell_type": "code",
   "execution_count": 17,
   "metadata": {},
   "outputs": [],
   "source": [
    "import torch\n",
    "import numpy as np\n",
    "from torcheval.metrics import R2Score\n",
    "from utils.metrics import metric"
   ]
  },
  {
   "cell_type": "code",
   "execution_count": 24,
   "metadata": {},
   "outputs": [],
   "source": [
    "add_cols = [ \n",
    "            # 'ret',\n",
    "        'aum', \n",
    "        'SENT_', \n",
    "        'PTFSBD', \n",
    "        'PTFSFX', \n",
    "        'PTFSCOM', \n",
    "        'em', \n",
    "        'sp500', \n",
    "        'sizespread', \n",
    "        'bondmkt', \n",
    "        'creditspread',\n",
    "        'SMB', 'HML','RF', 'mom', \n",
    "        # 'con','ipg','tfp','term','def','dei','mkt','lab',\n",
    "        'confeature', 'tfpfeature', 'ipgfeature', 'termfeature', 'deffeature', 'deifeature', 'mktfeature', 'labfeature',\n",
    "        # 'ret',\n",
    "        'exret',\n",
    "        ]"
   ]
  },
  {
   "cell_type": "code",
   "execution_count": 32,
   "metadata": {},
   "outputs": [],
   "source": [
    "# 23 features, sample data, multivariate-predict multi, on excess return\n",
    "test_res_path1 = \"event_driven_mix_ex_23_feature_48_3_iTransformer_hf_M_ft48_sl48_ll3_pl128_dm8_nh3_el1_dl128_df1_fctimeF_ebTrue_dtExp_projection_0\"\n",
    "# 23 features, sample data, multivariate-predict single, on excess return\n",
    "test_res_path2 = \"event_driven_mix_ex_23_feature_48_3_iTransformer_hf_MS_ft48_sl48_ll3_pl128_dm8_nh3_el1_dl128_df1_fctimeF_ebTrue_dtExp_projection_0\"\n",
    "# 10 features, sample data, multivariate-predict multi, on excess return\n",
    "test_res_path3 = \"event_driven_mix_ex_10_feature_48_3_iTransformer_hf_M_ft48_sl48_ll3_pl128_dm8_nh3_el1_dl128_df1_fctimeF_ebTrue_dtExp_projection_0\"\n",
    "\n"
   ]
  },
  {
   "cell_type": "code",
   "execution_count": 27,
   "metadata": {},
   "outputs": [],
   "source": [
    "# 23 features, sample data, multivariate-predict multi, on excess return\n",
    "preds = np.load('results/{}/pred.npy'.format(test_res_path1))\n",
    "trues = np.load('results/{}/true.npy'.format(test_res_path1))\n",
    "mae, mse, _, _, _ = metric(preds[:, :, -1], trues[:, :, -1])"
   ]
  },
  {
   "cell_type": "code",
   "execution_count": 28,
   "metadata": {},
   "outputs": [
    {
     "name": "stdout",
     "output_type": "stream",
     "text": [
      "tensor(0.7394) aum\n",
      "tensor(0.6648) SENT_\n",
      "tensor(-0.0221) PTFSBD\n",
      "tensor(-0.0666) PTFSFX\n",
      "tensor(-0.1174) PTFSCOM\n",
      "tensor(-0.0926) em\n",
      "tensor(-0.0977) sp500\n",
      "tensor(-0.0855) sizespread\n",
      "tensor(-0.0636) bondmkt\n",
      "tensor(-0.0542) creditspread\n",
      "tensor(-0.1084) SMB\n",
      "tensor(-0.0635) HML\n",
      "tensor(0.5588) RF\n",
      "tensor(-0.0799) mom\n",
      "tensor(-0.0759) confeature\n",
      "tensor(-0.0269) tfpfeature\n",
      "tensor(-0.0674) ipgfeature\n",
      "tensor(0.3537) termfeature\n",
      "tensor(-0.0038) deffeature\n",
      "tensor(-0.0595) deifeature\n",
      "tensor(-0.0721) mktfeature\n",
      "tensor(0.1403) labfeature\n",
      "tensor(-0.0607) exret\n"
     ]
    }
   ],
   "source": [
    "for i in range(preds.shape[2]):\n",
    "    metrics = R2Score()\n",
    "    input = torch.tensor(preds[:,:,i].flatten())\n",
    "    target = torch.tensor(trues[:,:,i].flatten())\n",
    "    # target = torch.tensor(trues.flatten())\n",
    "    metrics.update(input, target)\n",
    "    print(metrics.compute(), add_cols[i])"
   ]
  },
  {
   "cell_type": "code",
   "execution_count": 29,
   "metadata": {},
   "outputs": [],
   "source": [
    "# 23 features, sample data, multivariate-predict single, on excess return\n",
    "preds = np.load('results/{}/pred.npy'.format(test_res_path2))\n",
    "trues = np.load('results/{}/true.npy'.format(test_res_path2))\n",
    "mae, mse, _, _, _ = metric(preds[:, :, -1], trues[:, :, -1])"
   ]
  },
  {
   "cell_type": "code",
   "execution_count": 30,
   "metadata": {},
   "outputs": [
    {
     "name": "stdout",
     "output_type": "stream",
     "text": [
      "tensor(-0.0621)\n"
     ]
    }
   ],
   "source": [
    "for i in range(preds.shape[2]):\n",
    "    metrics = R2Score()\n",
    "    input = torch.tensor(preds[:,:,i].flatten())\n",
    "    target = torch.tensor(trues[:,:,i].flatten())\n",
    "    # target = torch.tensor(trues.flatten())\n",
    "    metrics.update(input, target)\n",
    "    print(metrics.compute())"
   ]
  },
  {
   "cell_type": "code",
   "execution_count": 35,
   "metadata": {},
   "outputs": [],
   "source": [
    "# 10 features, sample data, multivariate-predict multi, on excess return\n",
    "\n",
    "add_cols = [ \n",
    "            # 'ret',\n",
    "        'aum', \n",
    "        'SENT_', \n",
    "        # 'PTFSBD', \n",
    "        # 'PTFSFX', \n",
    "        # 'PTFSCOM', \n",
    "        # 'em', \n",
    "        # 'sp500', \n",
    "        # 'sizespread', \n",
    "        # 'bondmkt', \n",
    "        # 'creditspread',\n",
    "        # 'SMB', 'HML','RF', 'mom', \n",
    "        # 'con','ipg','tfp','term','def','dei','mkt','lab',\n",
    "        'confeature', 'tfpfeature', 'ipgfeature', 'termfeature', 'deffeature', 'deifeature', 'mktfeature', 'labfeature',\n",
    "        'exret',\n",
    "        ]\n",
    "\n",
    "preds = np.load('results/{}/pred.npy'.format(test_res_path3))\n",
    "trues = np.load('results/{}/true.npy'.format(test_res_path3))\n",
    "mae, mse, _, _, _ = metric(preds[:, :, -1], trues[:, :, -1])"
   ]
  },
  {
   "cell_type": "code",
   "execution_count": 36,
   "metadata": {},
   "outputs": [
    {
     "name": "stdout",
     "output_type": "stream",
     "text": [
      "tensor(0.7751) aum\n",
      "tensor(0.6990) SENT_\n",
      "tensor(-0.0483) confeature\n",
      "tensor(0.0119) tfpfeature\n",
      "tensor(-0.0597) ipgfeature\n",
      "tensor(0.4115) termfeature\n",
      "tensor(0.0093) deffeature\n",
      "tensor(-0.0888) deifeature\n",
      "tensor(-0.0922) mktfeature\n",
      "tensor(0.1613) labfeature\n",
      "tensor(-0.0634) exret\n"
     ]
    }
   ],
   "source": [
    "for i in range(preds.shape[2]):\n",
    "    metrics = R2Score()\n",
    "    input = torch.tensor(preds[:,:,i].flatten())\n",
    "    target = torch.tensor(trues[:,:,i].flatten())\n",
    "    # target = torch.tensor(trues.flatten())\n",
    "    metrics.update(input, target)\n",
    "    print(metrics.compute(), add_cols[i])"
   ]
  }
 ],
 "metadata": {
  "kernelspec": {
   "display_name": "venv",
   "language": "python",
   "name": "python3"
  },
  "language_info": {
   "codemirror_mode": {
    "name": "ipython",
    "version": 3
   },
   "file_extension": ".py",
   "mimetype": "text/x-python",
   "name": "python",
   "nbconvert_exporter": "python",
   "pygments_lexer": "ipython3",
   "version": "3.10.12"
  }
 },
 "nbformat": 4,
 "nbformat_minor": 2
}
